{
 "cells": [
  {
   "attachments": {},
   "cell_type": "markdown",
   "metadata": {},
   "source": [
    "# API"
   ]
  },
  {
   "cell_type": "code",
   "execution_count": 1,
   "metadata": {},
   "outputs": [],
   "source": [
    "from scipy import interpolate\n",
    "from scipy.optimize import curve_fit"
   ]
  },
  {
   "cell_type": "code",
   "execution_count": 2,
   "metadata": {},
   "outputs": [],
   "source": [
    "def plane(xdata, mx, my, C):  #2D plane used to fit background\n",
    "\n",
    "    xdata = np.array(xdata)\n",
    "    intensities = np.zeros(len(xdata))    \n",
    "    intensities = C + xdata[:,0]*mx + xdata[:,1]*my   \n",
    "    return intensities"
   ]
  },
  {
   "cell_type": "code",
   "execution_count": 3,
   "metadata": {},
   "outputs": [],
   "source": [
    "#define refinment function for CDW peaks\n",
    "def spot_pos_refine(good_spot, pattern, y_guess, x_guess,x_low_limit=0,y_low_limit=0,x_high_limit=128,y_high_limit=128,bkg_limit=3,peak_limit=1):   #T labels the specific diffraction pattern (I convert from 4d to 3d dataset during analysis) and the y_guess and x_guess are the initial guesses for the peak position\n",
    "    step = ( peak_limit ) / 4\n",
    "    if good_spot == 1:\n",
    "        \n",
    "        #Load the diff pattern\n",
    "        # pattern = exp_data[int(T),:,:] + 0\n",
    "\n",
    "        x_int = round(x_guess) #Round the guess to the nearest pixel to begin with\n",
    "        y_int = round(y_guess)\n",
    "    \n",
    "        #Define the size of the initial (large) fitting window\n",
    "        FW_half = 2 #total size of fitting window = FW_half*2 + 1\n",
    "        FW = pattern[ x_int - FW_half : x_int + FW_half + 1 , y_int - FW_half : y_int + FW_half + 1 ]\n",
    "\n",
    "        #Find the local maximum in the FW, and return the shifts needed to bring this pixel to the FW center\n",
    "        max_shift = np.unravel_index(np.argmax(FW), FW.shape)\n",
    "    \n",
    "        #Update x and y guess based on the local max\n",
    "        x_updated = (x_int + (max_shift[0] - FW_half))\n",
    "        y_updated = (y_int + (max_shift[1] - FW_half))\n",
    "    \n",
    "        #Make sure that the updated peak position isn't outside the detector limits\n",
    "        if x_updated > x_low_limit and x_updated < x_high_limit and y_updated > y_low_limit and y_updated < y_high_limit:                \n",
    "\n",
    "            x_PAD = np.arange(0,128,1)\n",
    "            y_PAD = np.arange(0,128,1)\n",
    "\n",
    "            f = interpolate.interp2d(x_PAD, y_PAD, pattern, kind='linear')\n",
    "                \n",
    "            x_FW = np.arange( x_updated - bkg_limit , x_updated + bkg_limit ,  step)  \n",
    "            y_FW = np.arange( y_updated - bkg_limit , y_updated + bkg_limit ,  step)  \n",
    "                \n",
    "            #FW = fitting window\n",
    "            FW = f( y_FW, x_FW )  #Upsample the data near the peak using linear interpolation. Upsampling is defined by 'step'\n",
    "            \n",
    "            xdata_all = []\n",
    "            xdata_bkg = []\n",
    "            intensities_bkg = []\n",
    "\n",
    "            #Iterate through all points in fitting window, and determine if they are in the background region\n",
    "            for i in range (0, len(x_FW)):\n",
    "                for j in range (0, len(y_FW)):\n",
    "                        \n",
    "                    xdata_all.append([ x_FW[i], y_FW[j] ])\n",
    "                        \n",
    "                    distance = ( ( x_FW[i] - x_updated )**2  +  ( y_FW[j] - y_updated )**2 )**0.5\n",
    "                        \n",
    "                    if distance > peak_limit and distance < bkg_limit:\n",
    "                            \n",
    "                        xdata_bkg.append([ x_FW[i], y_FW[j] ])\n",
    "                        intensities_bkg.append( FW[i,j] )\n",
    "            \n",
    "            \n",
    "            #Fit background datapoints with 2D plane\n",
    "            p0 = [ np.mean(intensities_bkg), 0 , 0]\n",
    "            popt,pcov = curve_fit(plane, xdata_bkg, intensities_bkg, p0 = p0)\n",
    "\n",
    "            bkg_fitted = plane(xdata_all, *popt)\n",
    "            bkg_fitted = np.reshape(bkg_fitted, (len(x_FW),len(y_FW)))\n",
    "                \n",
    "            #Subtract the fitted background plane from the fitting window\n",
    "            FW = FW - bkg_fitted\n",
    "            \n",
    "            #Discared all datapoints outside of 'peak region'\n",
    "            for i in range (0, len(x_FW)):\n",
    "                for j in range (0, len(y_FW)):\n",
    "                                                \n",
    "                    distance = ( ( x_FW[i] - x_updated )**2  +  ( y_FW[j] - y_updated )**2 )**0.5\n",
    "                        \n",
    "                    if distance > peak_limit:\n",
    "                            \n",
    "                        FW[i,j] = 0\n",
    "                \n",
    "            #Normalized data to integral unity\n",
    "            FW = FW / np.sum(FW)\n",
    "            \n",
    "            #Perform COM calculation along x and y axes independently\n",
    "            FW_integrated_x = np.sum(FW, axis = 1) #average along y-axis\n",
    "            COM_x = np.dot(x_FW, FW_integrated_x) #Compute COMx\n",
    "            FW_integrated_y = np.sum(FW, axis = 0) #average along y-axis  \n",
    "            COM_y = np.dot(y_FW, FW_integrated_y) #Compute COMx \n",
    "\n",
    "            #Update peak position based on first COM calculation\n",
    "            x_refined = COM_x\n",
    "            y_refined = COM_y\n",
    "            \n",
    "            #Check to make sure the refined peak positions are still within 128 x 128 pixel limits\n",
    "            if x_refined > x_low_limit and x_refined < x_high_limit and y_refined > y_low_limit and y_refined < y_high_limit:   \n",
    "                \n",
    "                #Repeat everything above, but with refined starting point\n",
    "                x_FW = np.arange( x_refined - bkg_limit , x_refined + bkg_limit ,  step)  \n",
    "                y_FW = np.arange( y_refined - bkg_limit , y_refined + bkg_limit ,  step)  \n",
    "                \n",
    "                FW = f( y_FW, x_FW )\n",
    "            \n",
    "                xdata_all = []\n",
    "                xdata_bkg = []\n",
    "                intensities_bkg = []\n",
    "\n",
    "                for i in range (0, len(x_FW)):\n",
    "                    for j in range (0, len(y_FW)):\n",
    "                        \n",
    "                        xdata_all.append([ x_FW[i], y_FW[j] ])\n",
    "                        \n",
    "                        distance = ( ( x_FW[i] - x_refined )**2  +  ( y_FW[j] - y_refined )**2 )**0.5\n",
    "                        \n",
    "                        if distance > peak_limit and distance < bkg_limit:\n",
    "                            \n",
    "                            xdata_bkg.append([ x_FW[i], y_FW[j] ])\n",
    "                            intensities_bkg.append( FW[i,j] )\n",
    "            \n",
    "            \n",
    "                p0 = [ np.mean(intensities_bkg), 0 , 0]\n",
    "                popt,pcov = curve_fit(plane, xdata_bkg, intensities_bkg, p0 = p0)\n",
    "                \n",
    "                bkg_std = np.std( plane(xdata_bkg, *popt) - intensities_bkg )\n",
    "                bkg_avg = np.mean( intensities_bkg )\n",
    "                \n",
    "                bkg_fitted = plane(xdata_all, *popt)\n",
    "                bkg_fitted = np.reshape(bkg_fitted, (len(x_FW),len(y_FW)))\n",
    "                \n",
    "                FW = FW - bkg_fitted\n",
    "            \n",
    "                for i in range (0, len(x_FW)):\n",
    "                    for j in range (0, len(y_FW)):\n",
    "                                                \n",
    "                        distance = ( ( x_FW[i] - x_refined )**2  +  ( y_FW[j] - y_refined )**2 )**0.5\n",
    "                        \n",
    "                        if distance > peak_limit:\n",
    "                            \n",
    "                            FW[i,j] = 0\n",
    "                \n",
    "                total_intensity = np.sum(FW)\n",
    "                max_intensity = np.max(FW)\n",
    "                \n",
    "                FW = FW / np.sum(FW)\n",
    "            \n",
    "                #Perform COM calculation along x and y axes independently\n",
    "                FW_integrated_x = np.sum(FW, axis = 1) #average along y-axis\n",
    "                COM_x = np.dot(x_FW, FW_integrated_x) #Compute COMx\n",
    "                FW_integrated_y = np.sum(FW, axis = 0) #average along y-axis  \n",
    "                COM_y = np.dot(y_FW, FW_integrated_y) #Compute COMx \n",
    "\n",
    "                x_final = COM_x\n",
    "                y_final = COM_y\n",
    "\n",
    "                              \n",
    "                distance = ((y_final - y_guess)**2 + (x_final - x_guess)**2 )**0.5\n",
    "                spread = ( np.max(FW) / np.sum(FW) ) \n",
    "\n",
    "\n",
    "        \n",
    "                return 1, y_final, x_final, total_intensity, distance, spread, max_intensity, bkg_avg, bkg_std\n",
    "            \n",
    "            else:\n",
    "        \n",
    "                return 0, 0, 0, 0, 0, 0, 0, 0, 0\n",
    "    \n",
    "        else:\n",
    "        \n",
    "            return 0, 0, 0, 0, 0, 0, 0, 0, 0\n",
    "    \n",
    "    else:\n",
    "        \n",
    "        return 0, 0, 0, 0, 0, 0, 0, 0, 0"
   ]
  },
  {
   "cell_type": "code",
   "execution_count": 4,
   "metadata": {},
   "outputs": [],
   "source": [
    "import h5py\n",
    "import numpy as np\n",
    "import matplotlib.pyplot as plt\n",
    "import matplotlib.colors as colors\n"
   ]
  },
  {
   "cell_type": "code",
   "execution_count": 5,
   "metadata": {},
   "outputs": [],
   "source": [
    "# workingdir='/share/kim/STEM_sample_3/'\n",
    "workingdir='/share/kim/STEM_sample_2/'\n",
    "# workingdir='/home/shared/STEM_sample_2/'\n",
    "f=h5py.File(workingdir+'data.hdf5','r')\n",
    "I,T=f['I'],f['T']\n"
   ]
  },
  {
   "cell_type": "code",
   "execution_count": null,
   "metadata": {},
   "outputs": [],
   "source": []
  },
  {
   "cell_type": "code",
   "execution_count": 6,
   "metadata": {},
   "outputs": [],
   "source": [
    "x,y=65,65\n",
    "T_idx=0\n",
    "data=I[T_idx,x,y,:,:]\n",
    "mask=np.full(data.shape[:2],True)\n",
    "mask[:,85:]=False"
   ]
  },
  {
   "cell_type": "code",
   "execution_count": 7,
   "metadata": {},
   "outputs": [],
   "source": [
    "%matplotlib inline"
   ]
  },
  {
   "cell_type": "code",
   "execution_count": 30,
   "metadata": {},
   "outputs": [
    {
     "data": {
      "text/plain": [
       "<matplotlib.collections.PathCollection at 0x7f2792d611c0>"
      ]
     },
     "execution_count": 30,
     "metadata": {},
     "output_type": "execute_result"
    },
    {
     "data": {
      "image/png": "[encoded data removed]",
      "text/plain": [
       "<Figure size 720x720 with 2 Axes>"
      ]
     },
     "metadata": {
      "needs_background": "light"
     },
     "output_type": "display_data"
    }
   ],
   "source": [
    "fig,ax=plt.subplots(figsize=(10,10),tight_layout=True)\n",
    "im=ax.imshow(I[9,65,65,:,:],cmap='gray', norm=colors.LogNorm(vmin=10**3.9, vmax=10**7.4))\n",
    "cb=plt.colorbar(im,ax=ax)\n",
    "ax.set_xlabel(r'$k_y$')\n",
    "ax.set_ylabel(r'$k_x$')\n",
    "ax.set_aspect('equal')\n",
    "\n",
    "# ax.scatter(40,14)\n",
    "# ax.scatter(com_ij[:,1],com_ij[:,0],color='b',s=3)\n",
    "ax.scatter(com.x_i[:,1],com.x_i[:,0],color='b',s=3)\n",
    "# ax.scatter(spot_ij[:,1],spot_ij[:,0],color='b',s=3)"
   ]
  },
  {
   "cell_type": "code",
   "execution_count": 46,
   "metadata": {},
   "outputs": [
    {
     "data": {
      "text/plain": [
       "(1,\n",
       " 39.884530734003036,\n",
       " 14.122144024953302,\n",
       " 152391524.47943023,\n",
       " 0.16808424739299793,\n",
       " 0.038294108390237336,\n",
       " 5835697.556168808,\n",
       " 792044.2054571027,\n",
       " 577903.7238626815)"
      ]
     },
     "execution_count": 46,
     "metadata": {},
     "output_type": "execute_result"
    }
   ],
   "source": [
    "spot_pos_refine(1, data, 40, 14)"
   ]
  },
  {
   "cell_type": "code",
   "execution_count": 10,
   "metadata": {},
   "outputs": [],
   "source": [
    "from COM import *"
   ]
  },
  {
   "cell_type": "code",
   "execution_count": 11,
   "metadata": {},
   "outputs": [],
   "source": [
    "crop=np.full((128,128),True)\n",
    "crop[:,85:]=False"
   ]
  },
  {
   "cell_type": "code",
   "execution_count": 27,
   "metadata": {},
   "outputs": [],
   "source": [
    "com=COM(data=I[9,65,65,:,:],radius=0)"
   ]
  },
  {
   "cell_type": "code",
   "execution_count": 37,
   "metadata": {},
   "outputs": [],
   "source": [
    "com=COM(data=(I[9,65,65]),k0=[66,65],k1=[69,95],k2=[42,81],i_range=np.array([[-3,2],[-2,2],[-1,2],[0,2],\n",
    "                    [-2,1],[-1,1],[0,1],[1,1],\n",
    "                    [-2,0],[-1,0],[0,0],[1,0],[2,0],\n",
    "                    [-1,-1],[0,-1],[1,-1],[2,-1],\n",
    "                    [-1,-2],[0,-2],[1,-2],[2,-2],[3,-2]]),\n",
    "crop=crop)"
   ]
  },
  {
   "cell_type": "code",
   "execution_count": 34,
   "metadata": {},
   "outputs": [
    {
     "data": {
      "text/plain": [
       "array([[ 12,  10],\n",
       "       [ 14,  40],\n",
       "       [ 16,  69],\n",
       "       [ 39,  24],\n",
       "       [ 40,  53],\n",
       "       [ 42,  82],\n",
       "       [ 63,   7],\n",
       "       [ 65,  37],\n",
       "       [ 67,  66],\n",
       "       [ 89,  20],\n",
       "       [ 91,  50],\n",
       "       [ 93,  79],\n",
       "       [114,   4],\n",
       "       [115,  34],\n",
       "       [117,  63]])"
      ]
     },
     "execution_count": 34,
     "metadata": {},
     "output_type": "execute_result"
    }
   ],
   "source": [
    "com.x_i"
   ]
  },
  {
   "cell_type": "code",
   "execution_count": 28,
   "metadata": {},
   "outputs": [
    {
     "data": {
      "text/plain": [
       "array([[  8,  18],\n",
       "       [  5,  47],\n",
       "       [  2,  76],\n",
       "       [ 34,   7],\n",
       "       [ 31,  36],\n",
       "       [ 28,  65],\n",
       "       [ 25,  94],\n",
       "       [ 57,  25],\n",
       "       [ 54,  54],\n",
       "       [ 51,  83],\n",
       "       [ 83,  14],\n",
       "       [ 80,  43],\n",
       "       [ 77,  72],\n",
       "       [ 74, 101],\n",
       "       [106,  32],\n",
       "       [103,  61],\n",
       "       [100,  90]])"
      ]
     },
     "execution_count": 28,
     "metadata": {},
     "output_type": "execute_result"
    }
   ],
   "source": [
    "com.x_i"
   ]
  },
  {
   "cell_type": "code",
   "execution_count": 22,
   "metadata": {},
   "outputs": [
    {
     "ename": "IndexError",
     "evalue": "index 110 is out of bounds for axis 0 with size 110",
     "output_type": "error",
     "traceback": [
      "\u001b[0;31m---------------------------------------------------------------------------\u001b[0m",
      "\u001b[0;31mIndexError\u001b[0m                                Traceback (most recent call last)",
      "\u001b[1;32m/home/hp364/STEM/4D/detect_bragg_peaks_jamie.ipynb Cell 17\u001b[0m in \u001b[0;36m<cell line: 1>\u001b[0;34m()\u001b[0m\n\u001b[0;32m----> <a href='vscode-notebook-cell://ssh-remote%2Bg2-login.coecis.cornell.edu/home/hp364/STEM/4D/detect_bragg_peaks_jamie.ipynb#X20sdnNjb2RlLXJlbW90ZQ%3D%3D?line=0'>1</a>\u001b[0m com_ij\u001b[39m=\u001b[39mcom\u001b[39m.\u001b[39;49mgenerate_com()\n",
      "File \u001b[0;32m~/STEM/4D/COM.py:75\u001b[0m, in \u001b[0;36mCOM.generate_com\u001b[0;34m(self)\u001b[0m\n\u001b[1;32m     72\u001b[0m \u001b[39mdef\u001b[39;00m \u001b[39mgenerate_com\u001b[39m(\u001b[39mself\u001b[39m):\n\u001b[1;32m     73\u001b[0m     \u001b[39m# mask=self.generate_mask()\u001b[39;00m\n\u001b[1;32m     74\u001b[0m     \u001b[39m# lbl=ndimage.label(mask)\u001b[39;00m\n\u001b[0;32m---> 75\u001b[0m     lbl\u001b[39m=\u001b[39m\u001b[39mself\u001b[39;49m\u001b[39m.\u001b[39;49mgenerate_mask_ordered()\n\u001b[1;32m     76\u001b[0m     \u001b[39mreturn\u001b[39;00m np\u001b[39m.\u001b[39marray(ndimage\u001b[39m.\u001b[39mcenter_of_mass(\u001b[39mself\u001b[39m\u001b[39m.\u001b[39mdata,lbl[\u001b[39m0\u001b[39m],\u001b[39mrange\u001b[39m(\u001b[39m1\u001b[39m,lbl[\u001b[39m1\u001b[39m]\u001b[39m+\u001b[39m\u001b[39m1\u001b[39m)))\n",
      "File \u001b[0;32m~/STEM/4D/COM.py:69\u001b[0m, in \u001b[0;36mCOM.generate_mask_ordered\u001b[0;34m(self)\u001b[0m\n\u001b[1;32m     67\u001b[0m     shift_j\u001b[39m=\u001b[39mnp\u001b[39m.\u001b[39mmaximum(\u001b[39m0\u001b[39m,shift_j)\n\u001b[1;32m     68\u001b[0m     shift_j\u001b[39m=\u001b[39mnp\u001b[39m.\u001b[39mminimum(\u001b[39mself\u001b[39m\u001b[39m.\u001b[39mdata\u001b[39m.\u001b[39mshape[\u001b[39m1\u001b[39m],shift_j)\n\u001b[0;32m---> 69\u001b[0m     mask[shift_i,shift_j]\u001b[39m=\u001b[39mlabel_idx\u001b[39m+\u001b[39m\u001b[39m1\u001b[39m\n\u001b[1;32m     70\u001b[0m \u001b[39mreturn\u001b[39;00m mask,label_idx\u001b[39m+\u001b[39m\u001b[39m1\u001b[39m\n",
      "\u001b[0;31mIndexError\u001b[0m: index 110 is out of bounds for axis 0 with size 110"
     ]
    }
   ],
   "source": [
    "com_ij=com.generate_com()"
   ]
  },
  {
   "cell_type": "code",
   "execution_count": 43,
   "metadata": {},
   "outputs": [
    {
     "data": {
      "text/plain": [
       "(1,\n",
       " 10.13296995555416,\n",
       " 12.153749948928454,\n",
       " 35.01985259877798,\n",
       " 0.2032733525959003,\n",
       " 0.03157116160801159,\n",
       " 1.1056174258847644,\n",
       " 12.323573327992095,\n",
       " 0.19169741315654035)"
      ]
     },
     "execution_count": 43,
     "metadata": {},
     "output_type": "execute_result"
    }
   ],
   "source": [
    "spot_pos_refine(1, np.log(I[9,65,65]), 10,12)"
   ]
  },
  {
   "cell_type": "code",
   "execution_count": 39,
   "metadata": {},
   "outputs": [
    {
     "data": {
      "text/plain": [
       "array([[ 12.13589008,  10.12740416],\n",
       "       [ 14.14492704,  39.93829294],\n",
       "       [ 16.3129124 ,  69.12540534],\n",
       "       [ 38.69815531,  23.97344378],\n",
       "       [ 40.27986574,  52.95417253],\n",
       "       [ 42.37185365,  81.95007724],\n",
       "       [ 62.88285367,   7.18950537],\n",
       "       [ 64.80153849,  36.98236076],\n",
       "       [ 66.81500132,  65.88978508],\n",
       "       [ 88.91594438,  20.45764255],\n",
       "       [ 90.81791645,  49.64140208],\n",
       "       [ 92.76578264,  78.81921956],\n",
       "       [113.99838541,   4.11670156],\n",
       "       [115.10812759,  33.86285406],\n",
       "       [116.86584687,  62.96648505]])"
      ]
     },
     "execution_count": 39,
     "metadata": {},
     "output_type": "execute_result"
    }
   ],
   "source": [
    "com_ij"
   ]
  },
  {
   "cell_type": "code",
   "execution_count": 58,
   "metadata": {},
   "outputs": [
    {
     "data": {
      "text/plain": [
       "array([29.3913294 , 29.25690615, 29.27707054])"
      ]
     },
     "execution_count": 58,
     "metadata": {},
     "output_type": "execute_result"
    }
   ],
   "source": [
    "average_dist_direction(spot_ij, com.lines)"
   ]
  },
  {
   "cell_type": "code",
   "execution_count": 53,
   "metadata": {},
   "outputs": [],
   "source": [
    "def generate_com(data,x_i):\n",
    "    # I=I[9,65,65]\n",
    "    # xi=com.x_i\n",
    "    spot_ij_x=[]\n",
    "    spot_ij_y=[]\n",
    "    for x,y in x_i: \n",
    "        _,y_pos,x_pos,_,_,_,_,_,_=spot_pos_refine(1, (data), y, x)\n",
    "        spot_ij_x.append(x_pos)\n",
    "        spot_ij_y.append(y_pos)\n",
    "    spot_ij=np.array([spot_ij_x,spot_ij_y]).T\n",
    "    return spot_ij"
   ]
  },
  {
   "cell_type": "code",
   "execution_count": 56,
   "metadata": {},
   "outputs": [],
   "source": [
    "spot_ij=generate_com(data=I[9,65,65], x_i=com.x_i)"
   ]
  },
  {
   "cell_type": "code",
   "execution_count": 31,
   "metadata": {},
   "outputs": [
    {
     "data": {
      "text/plain": [
       "array([[ 12.01095664,  10.00976353],\n",
       "       [ 14.01303623,  39.99407096],\n",
       "       [ 16.02572551,  69.01016801],\n",
       "       [ 38.97854303,  24.00715434],\n",
       "       [ 40.02036979,  52.99373598],\n",
       "       [ 42.03266353,  81.9904705 ],\n",
       "       [ 62.99033338,   7.01374269],\n",
       "       [ 64.98750193,  37.00900604],\n",
       "       [ 66.9916562 ,  65.99291339],\n",
       "       [ 88.9949368 ,  20.0462445 ],\n",
       "       [ 90.98876137,  49.96888454],\n",
       "       [ 92.98525496,  78.98530458],\n",
       "       [113.99911472,   4.00851536],\n",
       "       [115.00479279,  33.99951058],\n",
       "       [116.9805738 ,  63.00350648]])"
      ]
     },
     "execution_count": 31,
     "metadata": {},
     "output_type": "execute_result"
    }
   ],
   "source": [
    "com_ij"
   ]
  },
  {
   "cell_type": "code",
   "execution_count": 60,
   "metadata": {},
   "outputs": [],
   "source": [
    "def generate_mask_arc(center,radius):\n",
    "    i,j=np.mgrid[:400,:180]\n",
    "    return (i-center[1])**2+(j-center[0])**2<=radius**2\n",
    "def generate_mask_rect(xmin,xmax,ymin,ymax):\n",
    "    '''\n",
    "    x: (min,max)\n",
    "    y: (min,max)\n",
    "    '''\n",
    "    mask=np.full((400,180),False)\n",
    "    mask[xmin:xmax,ymin:ymax]=True\n",
    "    return mask\n",
    "disk1=generate_mask_arc([(20+152)/2,95],(152-20)/2)\n",
    "disk2=generate_mask_arc([(20+152)/2,315],(152-20)/2)\n",
    "mask=generate_mask_rect(95, 315,20, 152)\n",
    "mask_stadium=mask| disk1 | disk2"
   ]
  },
  {
   "cell_type": "code",
   "execution_count": 68,
   "metadata": {},
   "outputs": [
    {
     "name": "stdout",
     "output_type": "stream",
     "text": [
      "9:92\r"
     ]
    },
    {
     "ename": "ValueError",
     "evalue": "attempt to get argmax of an empty sequence",
     "output_type": "error",
     "traceback": [
      "\u001b[0;31m---------------------------------------------------------------------------\u001b[0m",
      "\u001b[0;31mValueError\u001b[0m                                Traceback (most recent call last)",
      "\u001b[1;32m/home/hp364/STEM/4D/detect_bragg_peaks_jamie.ipynb Cell 23\u001b[0m in \u001b[0;36m<cell line: 4>\u001b[0;34m()\u001b[0m\n\u001b[1;32m     <a href='vscode-notebook-cell://ssh-remote%2Bg2-login.coecis.cornell.edu/home/hp364/STEM/4D/detect_bragg_peaks_jamie.ipynb#X14sdnNjb2RlLXJlbW90ZQ%3D%3D?line=11'>12</a>\u001b[0m                 data\u001b[39m=\u001b[39mI[T_idx,i,j]\n\u001b[1;32m     <a href='vscode-notebook-cell://ssh-remote%2Bg2-login.coecis.cornell.edu/home/hp364/STEM/4D/detect_bragg_peaks_jamie.ipynb#X14sdnNjb2RlLXJlbW90ZQ%3D%3D?line=12'>13</a>\u001b[0m                 com\u001b[39m=\u001b[39mCOM(data\u001b[39m=\u001b[39mdata,k0\u001b[39m=\u001b[39m[\u001b[39m66\u001b[39m,\u001b[39m65\u001b[39m],k1\u001b[39m=\u001b[39m[\u001b[39m69\u001b[39m,\u001b[39m95\u001b[39m],k2\u001b[39m=\u001b[39m[\u001b[39m42\u001b[39m,\u001b[39m81\u001b[39m],i_range\u001b[39m=\u001b[39mnp\u001b[39m.\u001b[39marray([[\u001b[39m-\u001b[39m\u001b[39m3\u001b[39m,\u001b[39m2\u001b[39m],[\u001b[39m-\u001b[39m\u001b[39m2\u001b[39m,\u001b[39m2\u001b[39m],[\u001b[39m-\u001b[39m\u001b[39m1\u001b[39m,\u001b[39m2\u001b[39m],[\u001b[39m0\u001b[39m,\u001b[39m2\u001b[39m],\n\u001b[1;32m     <a href='vscode-notebook-cell://ssh-remote%2Bg2-login.coecis.cornell.edu/home/hp364/STEM/4D/detect_bragg_peaks_jamie.ipynb#X14sdnNjb2RlLXJlbW90ZQ%3D%3D?line=13'>14</a>\u001b[0m                     [\u001b[39m-\u001b[39m\u001b[39m2\u001b[39m,\u001b[39m1\u001b[39m],[\u001b[39m-\u001b[39m\u001b[39m1\u001b[39m,\u001b[39m1\u001b[39m],[\u001b[39m0\u001b[39m,\u001b[39m1\u001b[39m],[\u001b[39m1\u001b[39m,\u001b[39m1\u001b[39m],\n\u001b[1;32m     <a href='vscode-notebook-cell://ssh-remote%2Bg2-login.coecis.cornell.edu/home/hp364/STEM/4D/detect_bragg_peaks_jamie.ipynb#X14sdnNjb2RlLXJlbW90ZQ%3D%3D?line=14'>15</a>\u001b[0m                     [\u001b[39m-\u001b[39m\u001b[39m2\u001b[39m,\u001b[39m0\u001b[39m],[\u001b[39m-\u001b[39m\u001b[39m1\u001b[39m,\u001b[39m0\u001b[39m],[\u001b[39m0\u001b[39m,\u001b[39m0\u001b[39m],[\u001b[39m1\u001b[39m,\u001b[39m0\u001b[39m],[\u001b[39m2\u001b[39m,\u001b[39m0\u001b[39m],\n\u001b[1;32m     <a href='vscode-notebook-cell://ssh-remote%2Bg2-login.coecis.cornell.edu/home/hp364/STEM/4D/detect_bragg_peaks_jamie.ipynb#X14sdnNjb2RlLXJlbW90ZQ%3D%3D?line=15'>16</a>\u001b[0m                     [\u001b[39m-\u001b[39m\u001b[39m1\u001b[39m,\u001b[39m-\u001b[39m\u001b[39m1\u001b[39m],[\u001b[39m0\u001b[39m,\u001b[39m-\u001b[39m\u001b[39m1\u001b[39m],[\u001b[39m1\u001b[39m,\u001b[39m-\u001b[39m\u001b[39m1\u001b[39m],[\u001b[39m2\u001b[39m,\u001b[39m-\u001b[39m\u001b[39m1\u001b[39m],\n\u001b[1;32m     <a href='vscode-notebook-cell://ssh-remote%2Bg2-login.coecis.cornell.edu/home/hp364/STEM/4D/detect_bragg_peaks_jamie.ipynb#X14sdnNjb2RlLXJlbW90ZQ%3D%3D?line=16'>17</a>\u001b[0m                     [\u001b[39m-\u001b[39m\u001b[39m1\u001b[39m,\u001b[39m-\u001b[39m\u001b[39m2\u001b[39m],[\u001b[39m0\u001b[39m,\u001b[39m-\u001b[39m\u001b[39m2\u001b[39m],[\u001b[39m1\u001b[39m,\u001b[39m-\u001b[39m\u001b[39m2\u001b[39m],[\u001b[39m2\u001b[39m,\u001b[39m-\u001b[39m\u001b[39m2\u001b[39m],[\u001b[39m3\u001b[39m,\u001b[39m-\u001b[39m\u001b[39m2\u001b[39m]]),\n\u001b[1;32m     <a href='vscode-notebook-cell://ssh-remote%2Bg2-login.coecis.cornell.edu/home/hp364/STEM/4D/detect_bragg_peaks_jamie.ipynb#X14sdnNjb2RlLXJlbW90ZQ%3D%3D?line=17'>18</a>\u001b[0m crop\u001b[39m=\u001b[39mcrop)\n\u001b[0;32m---> <a href='vscode-notebook-cell://ssh-remote%2Bg2-login.coecis.cornell.edu/home/hp364/STEM/4D/detect_bragg_peaks_jamie.ipynb#X14sdnNjb2RlLXJlbW90ZQ%3D%3D?line=18'>19</a>\u001b[0m                 spot_ij\u001b[39m=\u001b[39mgenerate_com(data\u001b[39m=\u001b[39;49mdata, x_i\u001b[39m=\u001b[39;49mcom\u001b[39m.\u001b[39;49mx_i)\n\u001b[1;32m     <a href='vscode-notebook-cell://ssh-remote%2Bg2-login.coecis.cornell.edu/home/hp364/STEM/4D/detect_bragg_peaks_jamie.ipynb#X14sdnNjb2RlLXJlbW90ZQ%3D%3D?line=19'>20</a>\u001b[0m                 ave_dist_j[T_idx,i,j]\u001b[39m=\u001b[39maverage_dist_direction(spot_ij,com\u001b[39m.\u001b[39mlines)\n",
      "\u001b[1;32m/home/hp364/STEM/4D/detect_bragg_peaks_jamie.ipynb Cell 23\u001b[0m in \u001b[0;36mgenerate_com\u001b[0;34m(data, x_i)\u001b[0m\n\u001b[1;32m      <a href='vscode-notebook-cell://ssh-remote%2Bg2-login.coecis.cornell.edu/home/hp364/STEM/4D/detect_bragg_peaks_jamie.ipynb#X14sdnNjb2RlLXJlbW90ZQ%3D%3D?line=4'>5</a>\u001b[0m spot_ij_y\u001b[39m=\u001b[39m[]\n\u001b[1;32m      <a href='vscode-notebook-cell://ssh-remote%2Bg2-login.coecis.cornell.edu/home/hp364/STEM/4D/detect_bragg_peaks_jamie.ipynb#X14sdnNjb2RlLXJlbW90ZQ%3D%3D?line=5'>6</a>\u001b[0m \u001b[39mfor\u001b[39;00m x,y \u001b[39min\u001b[39;00m x_i: \n\u001b[0;32m----> <a href='vscode-notebook-cell://ssh-remote%2Bg2-login.coecis.cornell.edu/home/hp364/STEM/4D/detect_bragg_peaks_jamie.ipynb#X14sdnNjb2RlLXJlbW90ZQ%3D%3D?line=6'>7</a>\u001b[0m     _,y_pos,x_pos,_,_,_,_,_,_\u001b[39m=\u001b[39mspot_pos_refine(\u001b[39m1\u001b[39;49m, (data), y, x)\n\u001b[1;32m      <a href='vscode-notebook-cell://ssh-remote%2Bg2-login.coecis.cornell.edu/home/hp364/STEM/4D/detect_bragg_peaks_jamie.ipynb#X14sdnNjb2RlLXJlbW90ZQ%3D%3D?line=7'>8</a>\u001b[0m     spot_ij_x\u001b[39m.\u001b[39mappend(x_pos)\n\u001b[1;32m      <a href='vscode-notebook-cell://ssh-remote%2Bg2-login.coecis.cornell.edu/home/hp364/STEM/4D/detect_bragg_peaks_jamie.ipynb#X14sdnNjb2RlLXJlbW90ZQ%3D%3D?line=8'>9</a>\u001b[0m     spot_ij_y\u001b[39m.\u001b[39mappend(y_pos)\n",
      "\u001b[1;32m/home/hp364/STEM/4D/detect_bragg_peaks_jamie.ipynb Cell 23\u001b[0m in \u001b[0;36mspot_pos_refine\u001b[0;34m(good_spot, pattern, y_guess, x_guess, x_low_limit, y_low_limit, x_high_limit, y_high_limit, bkg_limit, peak_limit)\u001b[0m\n\u001b[1;32m     <a href='vscode-notebook-cell://ssh-remote%2Bg2-login.coecis.cornell.edu/home/hp364/STEM/4D/detect_bragg_peaks_jamie.ipynb#X14sdnNjb2RlLXJlbW90ZQ%3D%3D?line=13'>14</a>\u001b[0m FW \u001b[39m=\u001b[39m pattern[ x_int \u001b[39m-\u001b[39m FW_half : x_int \u001b[39m+\u001b[39m FW_half \u001b[39m+\u001b[39m \u001b[39m1\u001b[39m , y_int \u001b[39m-\u001b[39m FW_half : y_int \u001b[39m+\u001b[39m FW_half \u001b[39m+\u001b[39m \u001b[39m1\u001b[39m ]\n\u001b[1;32m     <a href='vscode-notebook-cell://ssh-remote%2Bg2-login.coecis.cornell.edu/home/hp364/STEM/4D/detect_bragg_peaks_jamie.ipynb#X14sdnNjb2RlLXJlbW90ZQ%3D%3D?line=15'>16</a>\u001b[0m \u001b[39m#Find the local maximum in the FW, and return the shifts needed to bring this pixel to the FW center\u001b[39;00m\n\u001b[0;32m---> <a href='vscode-notebook-cell://ssh-remote%2Bg2-login.coecis.cornell.edu/home/hp364/STEM/4D/detect_bragg_peaks_jamie.ipynb#X14sdnNjb2RlLXJlbW90ZQ%3D%3D?line=16'>17</a>\u001b[0m max_shift \u001b[39m=\u001b[39m np\u001b[39m.\u001b[39munravel_index(np\u001b[39m.\u001b[39;49margmax(FW), FW\u001b[39m.\u001b[39mshape)\n\u001b[1;32m     <a href='vscode-notebook-cell://ssh-remote%2Bg2-login.coecis.cornell.edu/home/hp364/STEM/4D/detect_bragg_peaks_jamie.ipynb#X14sdnNjb2RlLXJlbW90ZQ%3D%3D?line=18'>19</a>\u001b[0m \u001b[39m#Update x and y guess based on the local max\u001b[39;00m\n\u001b[1;32m     <a href='vscode-notebook-cell://ssh-remote%2Bg2-login.coecis.cornell.edu/home/hp364/STEM/4D/detect_bragg_peaks_jamie.ipynb#X14sdnNjb2RlLXJlbW90ZQ%3D%3D?line=19'>20</a>\u001b[0m x_updated \u001b[39m=\u001b[39m (x_int \u001b[39m+\u001b[39m (max_shift[\u001b[39m0\u001b[39m] \u001b[39m-\u001b[39m FW_half))\n",
      "File \u001b[0;32m<__array_function__ internals>:5\u001b[0m, in \u001b[0;36margmax\u001b[0;34m(*args, **kwargs)\u001b[0m\n",
      "File \u001b[0;32m~/.pyenv/versions/anaconda3-2022.05/lib/python3.9/site-packages/numpy/core/fromnumeric.py:1195\u001b[0m, in \u001b[0;36margmax\u001b[0;34m(a, axis, out)\u001b[0m\n\u001b[1;32m   1121\u001b[0m \u001b[39m@array_function_dispatch\u001b[39m(_argmax_dispatcher)\n\u001b[1;32m   1122\u001b[0m \u001b[39mdef\u001b[39;00m \u001b[39margmax\u001b[39m(a, axis\u001b[39m=\u001b[39m\u001b[39mNone\u001b[39;00m, out\u001b[39m=\u001b[39m\u001b[39mNone\u001b[39;00m):\n\u001b[1;32m   1123\u001b[0m     \u001b[39m\"\"\"\u001b[39;00m\n\u001b[1;32m   1124\u001b[0m \u001b[39m    Returns the indices of the maximum values along an axis.\u001b[39;00m\n\u001b[1;32m   1125\u001b[0m \n\u001b[0;32m   (...)\u001b[0m\n\u001b[1;32m   1193\u001b[0m \n\u001b[1;32m   1194\u001b[0m \u001b[39m    \"\"\"\u001b[39;00m\n\u001b[0;32m-> 1195\u001b[0m     \u001b[39mreturn\u001b[39;00m _wrapfunc(a, \u001b[39m'\u001b[39;49m\u001b[39margmax\u001b[39;49m\u001b[39m'\u001b[39;49m, axis\u001b[39m=\u001b[39;49maxis, out\u001b[39m=\u001b[39;49mout)\n",
      "File \u001b[0;32m~/.pyenv/versions/anaconda3-2022.05/lib/python3.9/site-packages/numpy/core/fromnumeric.py:57\u001b[0m, in \u001b[0;36m_wrapfunc\u001b[0;34m(obj, method, *args, **kwds)\u001b[0m\n\u001b[1;32m     54\u001b[0m     \u001b[39mreturn\u001b[39;00m _wrapit(obj, method, \u001b[39m*\u001b[39margs, \u001b[39m*\u001b[39m\u001b[39m*\u001b[39mkwds)\n\u001b[1;32m     56\u001b[0m \u001b[39mtry\u001b[39;00m:\n\u001b[0;32m---> 57\u001b[0m     \u001b[39mreturn\u001b[39;00m bound(\u001b[39m*\u001b[39;49margs, \u001b[39m*\u001b[39;49m\u001b[39m*\u001b[39;49mkwds)\n\u001b[1;32m     58\u001b[0m \u001b[39mexcept\u001b[39;00m \u001b[39mTypeError\u001b[39;00m:\n\u001b[1;32m     59\u001b[0m     \u001b[39m# A TypeError occurs if the object does have such a method in its\u001b[39;00m\n\u001b[1;32m     60\u001b[0m     \u001b[39m# class, but its signature is not identical to that of NumPy's. This\u001b[39;00m\n\u001b[0;32m   (...)\u001b[0m\n\u001b[1;32m     64\u001b[0m     \u001b[39m# Call _wrapit from within the except clause to ensure a potential\u001b[39;00m\n\u001b[1;32m     65\u001b[0m     \u001b[39m# exception has a traceback chain.\u001b[39;00m\n\u001b[1;32m     66\u001b[0m     \u001b[39mreturn\u001b[39;00m _wrapit(obj, method, \u001b[39m*\u001b[39margs, \u001b[39m*\u001b[39m\u001b[39m*\u001b[39mkwds)\n",
      "\u001b[0;31mValueError\u001b[0m: attempt to get argmax of an empty sequence"
     ]
    }
   ],
   "source": [
    "ave_dist_j=np.zeros((I.shape[0],I.shape[1],I.shape[2],3))\n",
    "# b1_store=np.zeros((I.shape[0],I.shape[1],I.shape[2],2))\n",
    "# b2_store=np.zeros((I.shape[0],I.shape[1],I.shape[2],2))\n",
    "for T_idx in [9]:\n",
    "# for T_idx in range(I.shape[0]):\n",
    "    for i in range(I.shape[1]):\n",
    "    # for i in [65]:\n",
    "        print(f'{T_idx}:{i}',end='\\r')\n",
    "        for j in range(I.shape[2]):\n",
    "        # for j in [65]:\n",
    "            if mask_stadium[i,j]:\n",
    "                data=I[T_idx,i,j]\n",
    "                com=COM(data=data,k0=[66,65],k1=[69,95],k2=[42,81],i_range=np.array([[-3,2],[-2,2],[-1,2],[0,2],\n",
    "                    [-2,1],[-1,1],[0,1],[1,1],\n",
    "                    [-2,0],[-1,0],[0,0],[1,0],[2,0],\n",
    "                    [-1,-1],[0,-1],[1,-1],[2,-1],\n",
    "                    [-1,-2],[0,-2],[1,-2],[2,-2],[3,-2]]),\n",
    "crop=crop)\n",
    "                spot_ij=generate_com(data=data, x_i=com.x_i)\n",
    "                ave_dist_j[T_idx,i,j]=average_dist_direction(spot_ij,com.lines)"
   ]
  },
  {
   "cell_type": "code",
   "execution_count": null,
   "metadata": {},
   "outputs": [],
   "source": [
    "fig,axs=plt.subplots(1,3,figsize=(10,10),gridspec_kw=dict(wspace=0.8))\n",
    "for idx in range(3):\n",
    "    im=axs[idx].imshow(ave_dist_j[9,:,:,idx]*np.where(~mask_stadium,np.nan,1))\n",
    "    ax_inset=axs[idx].inset_axes([1,0,0.1,1],transform=axs[idx].transAxes)\n",
    "    plt.colorbar(im,cax=ax_inset)\n",
    "    axs[idx].set_title(T[9])\n",
    "    axs[idx].set_aspect('equal')"
   ]
  },
  {
   "cell_type": "code",
   "execution_count": 67,
   "metadata": {},
   "outputs": [
    {
     "data": {
      "text/plain": [
       "array([29.3913294 , 29.25690615, 29.27707054])"
      ]
     },
     "execution_count": 67,
     "metadata": {},
     "output_type": "execute_result"
    }
   ],
   "source": [
    "ave_dist_j[9,65,65]"
   ]
  },
  {
   "cell_type": "code",
   "execution_count": 3,
   "metadata": {},
   "outputs": [],
   "source": [
    "import numpy as np\n",
    "import matplotlib.pyplot as plt"
   ]
  },
  {
   "cell_type": "code",
   "execution_count": 4,
   "metadata": {},
   "outputs": [],
   "source": [
    "x=np.linspace(-3,2)\n",
    "y=np.exp(-x*x)"
   ]
  },
  {
   "cell_type": "code",
   "execution_count": 5,
   "metadata": {},
   "outputs": [
    {
     "data": {
      "text/plain": [
       "[<matplotlib.lines.Line2D at 0x7fb99fd1eb20>]"
      ]
     },
     "execution_count": 5,
     "metadata": {},
     "output_type": "execute_result"
    },
    {
     "data": {
      "image/png": "[encoded data removed]",
      "text/plain": [
       "<Figure size 432x288 with 1 Axes>"
      ]
     },
     "metadata": {
      "needs_background": "light"
     },
     "output_type": "display_data"
    }
   ],
   "source": [
    "plt.plot(x,y)"
   ]
  },
  {
   "cell_type": "code",
   "execution_count": 6,
   "metadata": {},
   "outputs": [
    {
     "data": {
      "text/plain": [
       "-0.0041575480964431265"
      ]
     },
     "execution_count": 6,
     "metadata": {},
     "output_type": "execute_result"
    }
   ],
   "source": [
    "np.sum(x*y)/(np.sum(y))"
   ]
  },
  {
   "cell_type": "code",
   "execution_count": 52,
   "metadata": {},
   "outputs": [],
   "source": [
    "y1=y+1"
   ]
  },
  {
   "cell_type": "code",
   "execution_count": 53,
   "metadata": {},
   "outputs": [
    {
     "data": {
      "text/plain": [
       "-0.3723328502640098"
      ]
     },
     "execution_count": 53,
     "metadata": {},
     "output_type": "execute_result"
    }
   ],
   "source": [
    "np.sum(x*y1)/(np.sum(y1))"
   ]
  },
  {
   "cell_type": "code",
   "execution_count": null,
   "metadata": {},
   "outputs": [],
   "source": [
    "def "
   ]
  },
  {
   "cell_type": "code",
   "execution_count": 106,
   "metadata": {},
   "outputs": [
    {
     "data": {
      "text/plain": [
       "<matplotlib.collections.PathCollection at 0x7fb987557070>"
      ]
     },
     "execution_count": 106,
     "metadata": {},
     "output_type": "execute_result"
    },
    {
     "data": {
      "image/png": "[encoded data removed]",
      "text/plain": [
       "<Figure size 432x288 with 1 Axes>"
      ]
     },
     "metadata": {
      "needs_background": "light"
     },
     "output_type": "display_data"
    }
   ],
   "source": [
    "plt.plot(x,y1)\n",
    "plt.plot(x[20-8:20+8+1],y1[20-8:20+8+1])\n",
    "plt.scatter(x[20],y1[20])\n",
    "plt.scatter(x[28],y1[28])"
   ]
  },
  {
   "cell_type": "code",
   "execution_count": null,
   "metadata": {},
   "outputs": [],
   "source": [
    "plt.plot()"
   ]
  },
  {
   "cell_type": "code",
   "execution_count": 101,
   "metadata": {},
   "outputs": [
    {
     "data": {
      "text/plain": [
       "9.070500338017004"
      ]
     },
     "execution_count": 101,
     "metadata": {},
     "output_type": "execute_result"
    }
   ],
   "source": [
    "np.sum(y1[20-8:20+8+1]*np.arange(17))/np.sum(y1[20-8:20+8+1])"
   ]
  },
  {
   "cell_type": "code",
   "execution_count": 102,
   "metadata": {},
   "outputs": [
    {
     "data": {
      "text/plain": [
       "21.070500338017002"
      ]
     },
     "execution_count": 102,
     "metadata": {},
     "output_type": "execute_result"
    }
   ],
   "source": [
    "np.sum(y1[20-8:20+8+1]*np.arange(20-8,20+8+1))/np.sum(y1[20-8:20+8+1])"
   ]
  },
  {
   "cell_type": "code",
   "execution_count": 105,
   "metadata": {},
   "outputs": [
    {
     "data": {
      "text/plain": [
       "21.07"
      ]
     },
     "execution_count": 105,
     "metadata": {},
     "output_type": "execute_result"
    }
   ],
   "source": [
    "20-8+9.07"
   ]
  },
  {
   "cell_type": "code",
   "execution_count": 18,
   "metadata": {},
   "outputs": [],
   "source": [
    "from scipy import ndimage\n"
   ]
  },
  {
   "cell_type": "code",
   "execution_count": 19,
   "metadata": {},
   "outputs": [],
   "source": [
    "a = np.array(([0,0,0,0],\n",
    "              [0,1,1,0],\n",
    "              [0,1,1,0],\n",
    "              [0,1,1,0]))"
   ]
  },
  {
   "cell_type": "code",
   "execution_count": 20,
   "metadata": {},
   "outputs": [
    {
     "data": {
      "text/plain": [
       "(2.0, 1.5)"
      ]
     },
     "execution_count": 20,
     "metadata": {},
     "output_type": "execute_result"
    }
   ],
   "source": [
    "ndimage.center_of_mass(a)"
   ]
  },
  {
   "cell_type": "code",
   "execution_count": 21,
   "metadata": {},
   "outputs": [],
   "source": [
    "a1=a+1"
   ]
  },
  {
   "cell_type": "code",
   "execution_count": 22,
   "metadata": {},
   "outputs": [
    {
     "data": {
      "text/plain": [
       "(1.6363636363636365, 1.5)"
      ]
     },
     "execution_count": 22,
     "metadata": {},
     "output_type": "execute_result"
    }
   ],
   "source": [
    "ndimage.center_of_mass(a1)"
   ]
  },
  {
   "cell_type": "code",
   "execution_count": 2,
   "metadata": {},
   "outputs": [
    {
     "ename": "NameError",
     "evalue": "name 'y' is not defined",
     "output_type": "error",
     "traceback": [
      "\u001b[0;31m---------------------------------------------------------------------------\u001b[0m",
      "\u001b[0;31mNameError\u001b[0m                                 Traceback (most recent call last)",
      "\u001b[1;32m/home/hp364/STEM/4D/detect_bragg_peaks_jamie.ipynb Cell 41\u001b[0m in \u001b[0;36m<cell line: 1>\u001b[0;34m()\u001b[0m\n\u001b[0;32m----> <a href='vscode-notebook-cell://ssh-remote%2Bg2-login.coecis.cornell.edu/home/hp364/STEM/4D/detect_bragg_peaks_jamie.ipynb#X56sdnNjb2RlLXJlbW90ZQ%3D%3D?line=0'>1</a>\u001b[0m y\n",
      "\u001b[0;31mNameError\u001b[0m: name 'y' is not defined"
     ]
    }
   ],
   "source": [
    "y"
   ]
  },
  {
   "cell_type": "code",
   "execution_count": 40,
   "metadata": {},
   "outputs": [
    {
     "data": {
      "text/plain": [
       "29"
      ]
     },
     "execution_count": 40,
     "metadata": {},
     "output_type": "execute_result"
    }
   ],
   "source": [
    "np.abs(x).argmin()"
   ]
  },
  {
   "cell_type": "code",
   "execution_count": 107,
   "metadata": {},
   "outputs": [],
   "source": [
    "def com(x0,radius=3):\n",
    "    x0=round(x0)\n",
    "    y_shift=y1[x0-radius:x0+radius+1]\n",
    "    y_shift=y_shift-y_shift.min()\n",
    "    idx= np.sum(y_shift*np.arange(x0-radius,x0+radius+1))/np.sum(y_shift)\n",
    "    return idx\n",
    "    # return x[round(idx)]\n"
   ]
  },
  {
   "cell_type": "code",
   "execution_count": 108,
   "metadata": {},
   "outputs": [
    {
     "data": {
      "text/plain": [
       "25"
      ]
     },
     "execution_count": 108,
     "metadata": {},
     "output_type": "execute_result"
    }
   ],
   "source": [
    "y1.shape[0]//2"
   ]
  },
  {
   "cell_type": "code",
   "execution_count": 109,
   "metadata": {},
   "outputs": [
    {
     "data": {
      "text/plain": [
       "23.79091649000284"
      ]
     },
     "execution_count": 109,
     "metadata": {},
     "output_type": "execute_result"
    }
   ],
   "source": [
    "com(20.,radius=8)"
   ]
  },
  {
   "cell_type": "code",
   "execution_count": 111,
   "metadata": {},
   "outputs": [
    {
     "name": "stdout",
     "output_type": "stream",
     "text": [
      "25.272071154394922\n",
      "26.21277791963991\n",
      "27.137670895737212\n",
      "28.031880562564318\n",
      "28.85410286372517\n",
      "29.43116199469752\n",
      "29.43116199469752\n"
     ]
    }
   ],
   "source": [
    "x0_old=20\n",
    "x0_new=com(x0_old,radius=8)\n",
    "while abs(x0_new-x0_old)>0.1:\n",
    "    x0_old=x0_new\n",
    "    x0_new=com(x0_old)\n",
    "    print(x0_new)\n"
   ]
  },
  {
   "cell_type": "code",
   "execution_count": 112,
   "metadata": {},
   "outputs": [
    {
     "data": {
      "text/plain": [
       "-0.04081632653061229"
      ]
     },
     "execution_count": 112,
     "metadata": {},
     "output_type": "execute_result"
    }
   ],
   "source": [
    "x[29]"
   ]
  },
  {
   "cell_type": "code",
   "execution_count": 113,
   "metadata": {},
   "outputs": [
    {
     "data": {
      "text/plain": [
       "0.06122448979591866"
      ]
     },
     "execution_count": 113,
     "metadata": {},
     "output_type": "execute_result"
    }
   ],
   "source": [
    "x[30]"
   ]
  },
  {
   "cell_type": "code",
   "execution_count": 67,
   "metadata": {},
   "outputs": [
    {
     "data": {
      "text/plain": [
       "51.49781316089143"
      ]
     },
     "execution_count": 67,
     "metadata": {},
     "output_type": "execute_result"
    }
   ],
   "source": [
    "com(51)"
   ]
  },
  {
   "cell_type": "code",
   "execution_count": 33,
   "metadata": {},
   "outputs": [],
   "source": [
    "radius=3\n",
    "x0=0.5\n",
    "xmin,xmax=x[x.shape[0]//2-radius],x[x.shape[0]//2+radius+1]\n",
    "yy=y[x.shape[0]//2-radius:x.shape[0]//2+radius+1]"
   ]
  },
  {
   "cell_type": "code",
   "execution_count": 34,
   "metadata": {},
   "outputs": [
    {
     "data": {
      "text/plain": [
       "-0.7551020408163263"
      ]
     },
     "execution_count": 34,
     "metadata": {},
     "output_type": "execute_result"
    }
   ],
   "source": [
    "xmin"
   ]
  },
  {
   "cell_type": "code",
   "execution_count": 35,
   "metadata": {},
   "outputs": [
    {
     "data": {
      "text/plain": [
       "-0.04081632653061229"
      ]
     },
     "execution_count": 35,
     "metadata": {},
     "output_type": "execute_result"
    }
   ],
   "source": [
    "xmax"
   ]
  },
  {
   "cell_type": "code",
   "execution_count": 36,
   "metadata": {},
   "outputs": [
    {
     "data": {
      "text/plain": [
       "array([0.56542417, 0.65279707, 0.73813873, 0.81743599, 0.88659543,\n",
       "       0.94178807, 0.97979867])"
      ]
     },
     "execution_count": 36,
     "metadata": {},
     "output_type": "execute_result"
    }
   ],
   "source": [
    "yy"
   ]
  },
  {
   "cell_type": "code",
   "execution_count": 26,
   "metadata": {},
   "outputs": [
    {
     "data": {
      "text/plain": [
       "-0.44897959183673475"
      ]
     },
     "execution_count": 26,
     "metadata": {},
     "output_type": "execute_result"
    }
   ],
   "source": [
    "x[x.shape[0]//2]"
   ]
  },
  {
   "cell_type": "code",
   "execution_count": 19,
   "metadata": {},
   "outputs": [
    {
     "data": {
      "text/plain": [
       "-0.34693877551020424"
      ]
     },
     "execution_count": 19,
     "metadata": {},
     "output_type": "execute_result"
    }
   ],
   "source": [
    "com(x,y1)"
   ]
  },
  {
   "cell_type": "code",
   "execution_count": 37,
   "metadata": {},
   "outputs": [
    {
     "data": {
      "text/plain": [
       "-2.693877551020408"
      ]
     },
     "execution_count": 37,
     "metadata": {},
     "output_type": "execute_result"
    }
   ],
   "source": [
    "com(x,yy)"
   ]
  },
  {
   "cell_type": "code",
   "execution_count": null,
   "metadata": {},
   "outputs": [],
   "source": []
  }
 ],
 "metadata": {
  "kernelspec": {
   "display_name": "base",
   "language": "python",
   "name": "python3"
  },
  "language_info": {
   "codemirror_mode": {
    "name": "ipython",
    "version": 3
   },
   "file_extension": ".py",
   "mimetype": "text/x-python",
   "name": "python",
   "nbconvert_exporter": "python",
   "pygments_lexer": "ipython3",
   "version": "3.9.12"
  },
  "orig_nbformat": 4
 },
 "nbformat": 4,
 "nbformat_minor": 2
}
